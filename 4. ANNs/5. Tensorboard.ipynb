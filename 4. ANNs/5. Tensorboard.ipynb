{
 "cells": [
  {
   "cell_type": "code",
   "execution_count": 1,
   "metadata": {},
   "outputs": [],
   "source": [
    "import pandas as pd\n",
    "import numpy as np"
   ]
  },
  {
   "cell_type": "code",
   "execution_count": 2,
   "metadata": {},
   "outputs": [],
   "source": [
    "df = pd.read_csv('../DATA/cancer_classification.csv')"
   ]
  },
  {
   "cell_type": "markdown",
   "metadata": {},
   "source": [
    "### Train Test Split"
   ]
  },
  {
   "cell_type": "code",
   "execution_count": 3,
   "metadata": {},
   "outputs": [],
   "source": [
    "X = df.drop('benign_0__mal_1',axis=1).values\n",
    "y = df['benign_0__mal_1'].values"
   ]
  },
  {
   "cell_type": "code",
   "execution_count": 4,
   "metadata": {},
   "outputs": [],
   "source": [
    "from sklearn.model_selection import train_test_split"
   ]
  },
  {
   "cell_type": "code",
   "execution_count": 5,
   "metadata": {},
   "outputs": [],
   "source": [
    "X_train, X_test, y_train, y_test = train_test_split(X,y,test_size=0.25,random_state=101)"
   ]
  },
  {
   "cell_type": "markdown",
   "metadata": {},
   "source": [
    "\n",
    "### Scaling Data"
   ]
  },
  {
   "cell_type": "code",
   "execution_count": 6,
   "metadata": {},
   "outputs": [],
   "source": [
    "from sklearn.preprocessing import MinMaxScaler"
   ]
  },
  {
   "cell_type": "code",
   "execution_count": 7,
   "metadata": {},
   "outputs": [],
   "source": [
    "scaler = MinMaxScaler()"
   ]
  },
  {
   "cell_type": "code",
   "execution_count": 8,
   "metadata": {},
   "outputs": [
    {
     "data": {
      "text/plain": [
       "MinMaxScaler()"
      ]
     },
     "execution_count": 8,
     "metadata": {},
     "output_type": "execute_result"
    }
   ],
   "source": [
    "scaler.fit(X_train)"
   ]
  },
  {
   "cell_type": "code",
   "execution_count": 9,
   "metadata": {},
   "outputs": [],
   "source": [
    "X_train = scaler.transform(X_train)\n",
    "X_test = scaler.transform(X_test)"
   ]
  },
  {
   "cell_type": "markdown",
   "metadata": {},
   "source": [
    "## Creating the Model"
   ]
  },
  {
   "cell_type": "code",
   "execution_count": 10,
   "metadata": {},
   "outputs": [],
   "source": [
    "import tensorflow as tf\n",
    "from tensorflow.keras.models import Sequential\n",
    "from tensorflow.keras.layers import Dense, Activation,Dropout"
   ]
  },
  {
   "cell_type": "code",
   "execution_count": 11,
   "metadata": {},
   "outputs": [],
   "source": [
    "from tensorflow.keras.callbacks import EarlyStopping,TensorBoard"
   ]
  },
  {
   "cell_type": "code",
   "execution_count": 12,
   "metadata": {},
   "outputs": [],
   "source": [
    "early_stop = EarlyStopping(monitor='val_loss', mode='min', verbose=1, patience=25)"
   ]
  },
  {
   "cell_type": "code",
   "execution_count": 13,
   "metadata": {},
   "outputs": [
    {
     "data": {
      "text/plain": [
       "'C:\\\\Users\\\\ajayk\\\\Desktop\\\\Reinforcement learning\\\\03-ANNs'"
      ]
     },
     "execution_count": 13,
     "metadata": {},
     "output_type": "execute_result"
    }
   ],
   "source": [
    "pwd"
   ]
  },
  {
   "cell_type": "markdown",
   "metadata": {},
   "source": [
    "## Creating the Tensorboard Callback\n",
    "\n",
    "TensorBoard is a visualization tool provided with TensorFlow.\n",
    "\n",
    "This callback logs events for TensorBoard, including:\n",
    "* Metrics summary plots\n",
    "* Training graph visualization\n",
    "* Activation histograms\n",
    "* Sampled profiling\n",
    "\n",
    "If you have installed TensorFlow with pip, you should be able\n",
    "to launch TensorBoard from the command line:\n",
    "\n",
    "```sh\n",
    "tensorboard --logdir=path_to_your_logs\n",
    "```\n",
    "\n",
    "You can find more information about TensorBoard\n",
    "[here](https://www.tensorflow.org/tensorboard/).\n",
    "\n",
    "    Arguments:\n",
    "        log_dir: the path of the directory where to save the log files to be\n",
    "          parsed by TensorBoard.\n",
    "        histogram_freq: frequency (in epochs) at which to compute activation and\n",
    "          weight histograms for the layers of the model. If set to 0, histograms\n",
    "          won't be computed. Validation data (or split) must be specified for\n",
    "          histogram visualizations.\n",
    "        write_graph: whether to visualize the graph in TensorBoard. The log file\n",
    "          can become quite large when write_graph is set to True.\n",
    "        write_images: whether to write model weights to visualize as image in\n",
    "          TensorBoard.\n",
    "        update_freq: `'batch'` or `'epoch'` or integer. When using `'batch'`,\n",
    "          writes the losses and metrics to TensorBoard after each batch. The same\n",
    "          applies for `'epoch'`. If using an integer, let's say `1000`, the\n",
    "          callback will write the metrics and losses to TensorBoard every 1000\n",
    "          samples. Note that writing too frequently to TensorBoard can slow down\n",
    "          your training.\n",
    "        profile_batch: Profile the batch to sample compute characteristics. By\n",
    "          default, it will profile the second batch. Set profile_batch=0 to\n",
    "          disable profiling. Must run in TensorFlow eager mode.\n",
    "        embeddings_freq: frequency (in epochs) at which embedding layers will\n",
    "          be visualized. If set to 0, embeddings won't be visualized.\n",
    "       "
   ]
  },
  {
   "cell_type": "code",
   "execution_count": 14,
   "metadata": {},
   "outputs": [],
   "source": [
    "from datetime import datetime"
   ]
  },
  {
   "cell_type": "code",
   "execution_count": 15,
   "metadata": {},
   "outputs": [
    {
     "data": {
      "text/plain": [
       "'2022-04-25--1810'"
      ]
     },
     "execution_count": 15,
     "metadata": {},
     "output_type": "execute_result"
    }
   ],
   "source": [
    "datetime.now().strftime(\"%Y-%m-%d--%H%M\")"
   ]
  },
  {
   "cell_type": "code",
   "execution_count": 16,
   "metadata": {},
   "outputs": [],
   "source": [
    "# WINDOWS: Use \"logs\\\\fit\"\n",
    "# MACOS/LINUX: Use \"logs\\fit\"\n",
    "\n",
    "log_directory = 'logs\\\\fit'\n",
    "\n",
    "# OPTIONAL: ADD A TIMESTAMP FOR UNIQUE FOLDER\n",
    "# timestamp = datetime.now().strftime(\"%Y-%m-%d--%H%M\")\n",
    "# log_directory = log_directory + '\\\\' + timestamp\n",
    "\n",
    "\n",
    "board = TensorBoard(log_dir=log_directory,histogram_freq=1,\n",
    "    write_graph=True,\n",
    "    write_images=True,\n",
    "    update_freq='epoch',\n",
    "    profile_batch=2,\n",
    "    embeddings_freq=1)"
   ]
  },
  {
   "cell_type": "code",
   "execution_count": 17,
   "metadata": {},
   "outputs": [],
   "source": [
    "model = Sequential()\n",
    "model.add(Dense(units=30,activation='relu'))\n",
    "model.add(Dropout(0.5))\n",
    "model.add(Dense(units=15,activation='relu'))\n",
    "model.add(Dropout(0.5))\n",
    "model.add(Dense(units=1,activation='sigmoid'))\n",
    "model.compile(loss='binary_crossentropy', optimizer='adam')"
   ]
  },
  {
   "cell_type": "markdown",
   "metadata": {},
   "source": [
    "## Train the Model"
   ]
  },
  {
   "cell_type": "code",
   "execution_count": 18,
   "metadata": {},
   "outputs": [
    {
     "name": "stdout",
     "output_type": "stream",
     "text": [
      "Epoch 1/600\n",
      "14/14 [==============================] - 2s 77ms/step - loss: 0.6919 - val_loss: 0.6709\n",
      "Epoch 2/600\n",
      "14/14 [==============================] - 0s 14ms/step - loss: 0.6764 - val_loss: 0.6595\n",
      "Epoch 3/600\n",
      "14/14 [==============================] - 0s 14ms/step - loss: 0.6584 - val_loss: 0.6404\n",
      "Epoch 4/600\n",
      "14/14 [==============================] - 0s 16ms/step - loss: 0.6375 - val_loss: 0.6180\n",
      "Epoch 5/600\n",
      "14/14 [==============================] - 0s 14ms/step - loss: 0.6189 - val_loss: 0.5931\n",
      "Epoch 6/600\n",
      "14/14 [==============================] - 0s 14ms/step - loss: 0.6054 - val_loss: 0.5652\n",
      "Epoch 7/600\n",
      "14/14 [==============================] - 0s 21ms/step - loss: 0.5682 - val_loss: 0.5302\n",
      "Epoch 8/600\n",
      "14/14 [==============================] - 0s 18ms/step - loss: 0.5359 - val_loss: 0.4892\n",
      "Epoch 9/600\n",
      "14/14 [==============================] - 0s 15ms/step - loss: 0.5092 - val_loss: 0.4554\n",
      "Epoch 10/600\n",
      "14/14 [==============================] - 0s 17ms/step - loss: 0.5145 - val_loss: 0.4276\n",
      "Epoch 11/600\n",
      "14/14 [==============================] - 0s 18ms/step - loss: 0.4646 - val_loss: 0.3988\n",
      "Epoch 12/600\n",
      "14/14 [==============================] - 0s 16ms/step - loss: 0.4536 - val_loss: 0.3682\n",
      "Epoch 13/600\n",
      "14/14 [==============================] - 0s 17ms/step - loss: 0.4304 - val_loss: 0.3399\n",
      "Epoch 14/600\n",
      "14/14 [==============================] - 0s 16ms/step - loss: 0.4181 - val_loss: 0.3230\n",
      "Epoch 15/600\n",
      "14/14 [==============================] - 0s 24ms/step - loss: 0.4056 - val_loss: 0.3032\n",
      "Epoch 16/600\n",
      "14/14 [==============================] - 0s 18ms/step - loss: 0.3644 - val_loss: 0.2861\n",
      "Epoch 17/600\n",
      "14/14 [==============================] - 0s 22ms/step - loss: 0.3534 - val_loss: 0.2723\n",
      "Epoch 18/600\n",
      "14/14 [==============================] - 0s 15ms/step - loss: 0.3495 - val_loss: 0.2594\n",
      "Epoch 19/600\n",
      "14/14 [==============================] - 0s 25ms/step - loss: 0.3401 - val_loss: 0.2497\n",
      "Epoch 20/600\n",
      "14/14 [==============================] - 0s 24ms/step - loss: 0.3353 - val_loss: 0.2402\n",
      "Epoch 21/600\n",
      "14/14 [==============================] - 0s 19ms/step - loss: 0.3013 - val_loss: 0.2267\n",
      "Epoch 22/600\n",
      "14/14 [==============================] - 0s 15ms/step - loss: 0.3138 - val_loss: 0.2154\n",
      "Epoch 23/600\n",
      "14/14 [==============================] - 0s 13ms/step - loss: 0.2899 - val_loss: 0.2075\n",
      "Epoch 24/600\n",
      "14/14 [==============================] - 0s 11ms/step - loss: 0.2893 - val_loss: 0.2054\n",
      "Epoch 25/600\n",
      "14/14 [==============================] - 0s 11ms/step - loss: 0.2774 - val_loss: 0.2073\n",
      "Epoch 26/600\n",
      "14/14 [==============================] - 0s 12ms/step - loss: 0.2772 - val_loss: 0.1942\n",
      "Epoch 27/600\n",
      "14/14 [==============================] - 0s 12ms/step - loss: 0.2742 - val_loss: 0.1878\n",
      "Epoch 28/600\n",
      "14/14 [==============================] - 0s 12ms/step - loss: 0.2734 - val_loss: 0.1840\n",
      "Epoch 29/600\n",
      "14/14 [==============================] - 0s 13ms/step - loss: 0.2406 - val_loss: 0.1776\n",
      "Epoch 30/600\n",
      "14/14 [==============================] - 0s 14ms/step - loss: 0.2250 - val_loss: 0.1736\n",
      "Epoch 31/600\n",
      "14/14 [==============================] - 0s 12ms/step - loss: 0.2293 - val_loss: 0.1608\n",
      "Epoch 32/600\n",
      "14/14 [==============================] - 0s 14ms/step - loss: 0.2551 - val_loss: 0.1619\n",
      "Epoch 33/600\n",
      "14/14 [==============================] - 0s 19ms/step - loss: 0.2238 - val_loss: 0.1544\n",
      "Epoch 34/600\n",
      "14/14 [==============================] - 0s 27ms/step - loss: 0.2115 - val_loss: 0.1556\n",
      "Epoch 35/600\n",
      "14/14 [==============================] - 0s 20ms/step - loss: 0.2060 - val_loss: 0.1485\n",
      "Epoch 36/600\n",
      "14/14 [==============================] - 0s 14ms/step - loss: 0.2100 - val_loss: 0.1403\n",
      "Epoch 37/600\n",
      "14/14 [==============================] - 0s 12ms/step - loss: 0.2414 - val_loss: 0.1414\n",
      "Epoch 38/600\n",
      "14/14 [==============================] - 0s 12ms/step - loss: 0.1988 - val_loss: 0.1485\n",
      "Epoch 39/600\n",
      "14/14 [==============================] - 0s 13ms/step - loss: 0.2103 - val_loss: 0.1390\n",
      "Epoch 40/600\n",
      "14/14 [==============================] - 0s 14ms/step - loss: 0.1986 - val_loss: 0.1450\n",
      "Epoch 41/600\n",
      "14/14 [==============================] - 0s 12ms/step - loss: 0.1828 - val_loss: 0.1449\n",
      "Epoch 42/600\n",
      "14/14 [==============================] - 0s 14ms/step - loss: 0.1905 - val_loss: 0.1407\n",
      "Epoch 43/600\n",
      "14/14 [==============================] - 0s 13ms/step - loss: 0.2108 - val_loss: 0.1294\n",
      "Epoch 44/600\n",
      "14/14 [==============================] - 0s 17ms/step - loss: 0.1864 - val_loss: 0.1428\n",
      "Epoch 45/600\n",
      "14/14 [==============================] - 0s 16ms/step - loss: 0.1934 - val_loss: 0.1309\n",
      "Epoch 46/600\n",
      "14/14 [==============================] - 0s 20ms/step - loss: 0.1730 - val_loss: 0.1223\n",
      "Epoch 47/600\n",
      "14/14 [==============================] - 0s 16ms/step - loss: 0.1720 - val_loss: 0.1216\n",
      "Epoch 48/600\n",
      "14/14 [==============================] - 0s 13ms/step - loss: 0.1614 - val_loss: 0.1364\n",
      "Epoch 49/600\n",
      "14/14 [==============================] - 0s 17ms/step - loss: 0.1714 - val_loss: 0.1198\n",
      "Epoch 50/600\n",
      "14/14 [==============================] - 0s 22ms/step - loss: 0.1552 - val_loss: 0.1217\n",
      "Epoch 51/600\n",
      "14/14 [==============================] - 0s 18ms/step - loss: 0.1712 - val_loss: 0.1165\n",
      "Epoch 52/600\n",
      "14/14 [==============================] - 0s 14ms/step - loss: 0.1729 - val_loss: 0.1226\n",
      "Epoch 53/600\n",
      "14/14 [==============================] - 0s 16ms/step - loss: 0.1610 - val_loss: 0.1219\n",
      "Epoch 54/600\n",
      "14/14 [==============================] - 0s 17ms/step - loss: 0.1565 - val_loss: 0.1231\n",
      "Epoch 55/600\n",
      "14/14 [==============================] - 0s 16ms/step - loss: 0.1593 - val_loss: 0.1230\n",
      "Epoch 56/600\n",
      "14/14 [==============================] - 0s 15ms/step - loss: 0.1448 - val_loss: 0.1165\n",
      "Epoch 57/600\n",
      "14/14 [==============================] - 0s 14ms/step - loss: 0.1660 - val_loss: 0.1145\n",
      "Epoch 58/600\n",
      "14/14 [==============================] - 0s 17ms/step - loss: 0.1363 - val_loss: 0.1159\n",
      "Epoch 59/600\n",
      "14/14 [==============================] - 0s 17ms/step - loss: 0.1553 - val_loss: 0.1169\n",
      "Epoch 60/600\n",
      "14/14 [==============================] - 0s 18ms/step - loss: 0.1590 - val_loss: 0.1086\n",
      "Epoch 61/600\n",
      "14/14 [==============================] - 0s 24ms/step - loss: 0.1209 - val_loss: 0.1087\n",
      "Epoch 62/600\n",
      "14/14 [==============================] - 0s 22ms/step - loss: 0.1446 - val_loss: 0.1173\n",
      "Epoch 63/600\n",
      "14/14 [==============================] - 0s 22ms/step - loss: 0.1215 - val_loss: 0.1116\n",
      "Epoch 64/600\n",
      "14/14 [==============================] - 0s 13ms/step - loss: 0.1493 - val_loss: 0.1086\n",
      "Epoch 65/600\n",
      "14/14 [==============================] - 0s 14ms/step - loss: 0.1310 - val_loss: 0.1087\n",
      "Epoch 66/600\n",
      "14/14 [==============================] - 0s 16ms/step - loss: 0.1456 - val_loss: 0.1170\n",
      "Epoch 67/600\n",
      "14/14 [==============================] - 0s 13ms/step - loss: 0.1206 - val_loss: 0.1153\n",
      "Epoch 68/600\n",
      "14/14 [==============================] - 0s 21ms/step - loss: 0.1177 - val_loss: 0.1055\n",
      "Epoch 69/600\n",
      "14/14 [==============================] - 0s 14ms/step - loss: 0.1459 - val_loss: 0.1185\n",
      "Epoch 70/600\n",
      "14/14 [==============================] - 0s 24ms/step - loss: 0.1249 - val_loss: 0.1122\n",
      "Epoch 71/600\n",
      "14/14 [==============================] - 0s 18ms/step - loss: 0.1168 - val_loss: 0.1112\n",
      "Epoch 72/600\n",
      "14/14 [==============================] - 0s 13ms/step - loss: 0.1284 - val_loss: 0.1114\n",
      "Epoch 73/600\n",
      "14/14 [==============================] - 0s 15ms/step - loss: 0.1344 - val_loss: 0.1171\n",
      "Epoch 74/600\n",
      "14/14 [==============================] - 0s 16ms/step - loss: 0.1286 - val_loss: 0.1087\n",
      "Epoch 75/600\n",
      "14/14 [==============================] - 0s 15ms/step - loss: 0.1262 - val_loss: 0.1074\n",
      "Epoch 76/600\n",
      "14/14 [==============================] - 0s 21ms/step - loss: 0.1152 - val_loss: 0.1090\n",
      "Epoch 77/600\n",
      "14/14 [==============================] - 0s 15ms/step - loss: 0.1149 - val_loss: 0.1029\n",
      "Epoch 78/600\n",
      "14/14 [==============================] - 0s 13ms/step - loss: 0.1104 - val_loss: 0.1051\n",
      "Epoch 79/600\n",
      "14/14 [==============================] - 0s 17ms/step - loss: 0.1198 - val_loss: 0.1036\n",
      "Epoch 80/600\n",
      "14/14 [==============================] - 0s 14ms/step - loss: 0.1158 - val_loss: 0.1083\n",
      "Epoch 81/600\n",
      "14/14 [==============================] - 0s 13ms/step - loss: 0.1315 - val_loss: 0.1098\n",
      "Epoch 82/600\n"
     ]
    },
    {
     "name": "stdout",
     "output_type": "stream",
     "text": [
      "14/14 [==============================] - 0s 15ms/step - loss: 0.1028 - val_loss: 0.1065\n",
      "Epoch 83/600\n",
      "14/14 [==============================] - 0s 19ms/step - loss: 0.1227 - val_loss: 0.1037\n",
      "Epoch 84/600\n",
      "14/14 [==============================] - 0s 17ms/step - loss: 0.1152 - val_loss: 0.1058\n",
      "Epoch 85/600\n",
      "14/14 [==============================] - 0s 18ms/step - loss: 0.1252 - val_loss: 0.1058\n",
      "Epoch 86/600\n",
      "14/14 [==============================] - 0s 21ms/step - loss: 0.1050 - val_loss: 0.1122\n",
      "Epoch 87/600\n",
      "14/14 [==============================] - 0s 23ms/step - loss: 0.1011 - val_loss: 0.1127\n",
      "Epoch 88/600\n",
      "14/14 [==============================] - 0s 18ms/step - loss: 0.1199 - val_loss: 0.1057\n",
      "Epoch 89/600\n",
      "14/14 [==============================] - 0s 23ms/step - loss: 0.1113 - val_loss: 0.1043\n",
      "Epoch 90/600\n",
      "14/14 [==============================] - 0s 18ms/step - loss: 0.1279 - val_loss: 0.1073\n",
      "Epoch 91/600\n",
      "14/14 [==============================] - 0s 15ms/step - loss: 0.1160 - val_loss: 0.1256\n",
      "Epoch 92/600\n",
      "14/14 [==============================] - 0s 13ms/step - loss: 0.1024 - val_loss: 0.1036\n",
      "Epoch 93/600\n",
      "14/14 [==============================] - 0s 14ms/step - loss: 0.1069 - val_loss: 0.1104\n",
      "Epoch 94/600\n",
      "14/14 [==============================] - 0s 14ms/step - loss: 0.0972 - val_loss: 0.1014\n",
      "Epoch 95/600\n",
      "14/14 [==============================] - 0s 10ms/step - loss: 0.1033 - val_loss: 0.1086\n",
      "Epoch 96/600\n",
      "14/14 [==============================] - 0s 14ms/step - loss: 0.1071 - val_loss: 0.1170\n",
      "Epoch 97/600\n",
      "14/14 [==============================] - 0s 12ms/step - loss: 0.1061 - val_loss: 0.1021\n",
      "Epoch 98/600\n",
      "14/14 [==============================] - 0s 10ms/step - loss: 0.1101 - val_loss: 0.1054\n",
      "Epoch 99/600\n",
      "14/14 [==============================] - 0s 10ms/step - loss: 0.1123 - val_loss: 0.1110\n",
      "Epoch 100/600\n",
      "14/14 [==============================] - 0s 17ms/step - loss: 0.1083 - val_loss: 0.1026\n",
      "Epoch 101/600\n",
      "14/14 [==============================] - 0s 20ms/step - loss: 0.1175 - val_loss: 0.1015\n",
      "Epoch 102/600\n",
      "14/14 [==============================] - 0s 20ms/step - loss: 0.0994 - val_loss: 0.1050\n",
      "Epoch 103/600\n",
      "14/14 [==============================] - 0s 21ms/step - loss: 0.0997 - val_loss: 0.0997\n",
      "Epoch 104/600\n",
      "14/14 [==============================] - 0s 23ms/step - loss: 0.1094 - val_loss: 0.1058\n",
      "Epoch 105/600\n",
      "14/14 [==============================] - 0s 20ms/step - loss: 0.1019 - val_loss: 0.1217\n",
      "Epoch 106/600\n",
      "14/14 [==============================] - 0s 17ms/step - loss: 0.1033 - val_loss: 0.1039\n",
      "Epoch 107/600\n",
      "14/14 [==============================] - 0s 23ms/step - loss: 0.0859 - val_loss: 0.0992\n",
      "Epoch 108/600\n",
      "14/14 [==============================] - 0s 17ms/step - loss: 0.0767 - val_loss: 0.1164\n",
      "Epoch 109/600\n",
      "14/14 [==============================] - 0s 14ms/step - loss: 0.1089 - val_loss: 0.1082\n",
      "Epoch 110/600\n",
      "14/14 [==============================] - 0s 15ms/step - loss: 0.1038 - val_loss: 0.0989\n",
      "Epoch 111/600\n",
      "14/14 [==============================] - 0s 11ms/step - loss: 0.0966 - val_loss: 0.0997\n",
      "Epoch 112/600\n",
      "14/14 [==============================] - 0s 12ms/step - loss: 0.1086 - val_loss: 0.1014\n",
      "Epoch 113/600\n",
      "14/14 [==============================] - 0s 16ms/step - loss: 0.0884 - val_loss: 0.1055\n",
      "Epoch 114/600\n",
      "14/14 [==============================] - 0s 10ms/step - loss: 0.1156 - val_loss: 0.1000\n",
      "Epoch 115/600\n",
      "14/14 [==============================] - 0s 15ms/step - loss: 0.0910 - val_loss: 0.1089\n",
      "Epoch 116/600\n",
      "14/14 [==============================] - 0s 18ms/step - loss: 0.1139 - val_loss: 0.1064\n",
      "Epoch 117/600\n",
      "14/14 [==============================] - 0s 24ms/step - loss: 0.0835 - val_loss: 0.1090\n",
      "Epoch 118/600\n",
      "14/14 [==============================] - 0s 17ms/step - loss: 0.0964 - val_loss: 0.0989\n",
      "Epoch 119/600\n",
      "14/14 [==============================] - 0s 12ms/step - loss: 0.0712 - val_loss: 0.1026\n",
      "Epoch 120/600\n",
      "14/14 [==============================] - 0s 12ms/step - loss: 0.0865 - val_loss: 0.1123\n",
      "Epoch 121/600\n",
      "14/14 [==============================] - 0s 14ms/step - loss: 0.0989 - val_loss: 0.1081\n",
      "Epoch 122/600\n",
      "14/14 [==============================] - 0s 18ms/step - loss: 0.0837 - val_loss: 0.0998\n",
      "Epoch 123/600\n",
      "14/14 [==============================] - 0s 21ms/step - loss: 0.0909 - val_loss: 0.1068\n",
      "Epoch 124/600\n",
      "14/14 [==============================] - 0s 17ms/step - loss: 0.0897 - val_loss: 0.1051\n",
      "Epoch 125/600\n",
      "14/14 [==============================] - 0s 16ms/step - loss: 0.0882 - val_loss: 0.1051\n",
      "Epoch 126/600\n",
      "14/14 [==============================] - 0s 12ms/step - loss: 0.0839 - val_loss: 0.1000\n",
      "Epoch 127/600\n",
      "14/14 [==============================] - 0s 13ms/step - loss: 0.0851 - val_loss: 0.1088\n",
      "Epoch 128/600\n",
      "14/14 [==============================] - 0s 16ms/step - loss: 0.1005 - val_loss: 0.1157\n",
      "Epoch 129/600\n",
      "14/14 [==============================] - 0s 15ms/step - loss: 0.0914 - val_loss: 0.1149\n",
      "Epoch 130/600\n",
      "14/14 [==============================] - 0s 13ms/step - loss: 0.0737 - val_loss: 0.1006\n",
      "Epoch 131/600\n",
      "14/14 [==============================] - 0s 13ms/step - loss: 0.0740 - val_loss: 0.0985\n",
      "Epoch 132/600\n",
      "14/14 [==============================] - 0s 10ms/step - loss: 0.0866 - val_loss: 0.1016\n",
      "Epoch 133/600\n",
      "14/14 [==============================] - 0s 14ms/step - loss: 0.0859 - val_loss: 0.1013\n",
      "Epoch 134/600\n",
      "14/14 [==============================] - 0s 13ms/step - loss: 0.0801 - val_loss: 0.0983\n",
      "Epoch 135/600\n",
      "14/14 [==============================] - 0s 13ms/step - loss: 0.0891 - val_loss: 0.0981\n",
      "Epoch 136/600\n",
      "14/14 [==============================] - 0s 14ms/step - loss: 0.0863 - val_loss: 0.1041\n",
      "Epoch 137/600\n",
      "14/14 [==============================] - 0s 20ms/step - loss: 0.0889 - val_loss: 0.0981\n",
      "Epoch 138/600\n",
      "14/14 [==============================] - 0s 17ms/step - loss: 0.0729 - val_loss: 0.1305\n",
      "Epoch 139/600\n",
      "14/14 [==============================] - 0s 20ms/step - loss: 0.0912 - val_loss: 0.0964\n",
      "Epoch 140/600\n",
      "14/14 [==============================] - 0s 13ms/step - loss: 0.0901 - val_loss: 0.1026\n",
      "Epoch 141/600\n",
      "14/14 [==============================] - 0s 14ms/step - loss: 0.1006 - val_loss: 0.1118\n",
      "Epoch 142/600\n",
      "14/14 [==============================] - 0s 20ms/step - loss: 0.0879 - val_loss: 0.0972\n",
      "Epoch 143/600\n",
      "14/14 [==============================] - 0s 18ms/step - loss: 0.0972 - val_loss: 0.0997\n",
      "Epoch 144/600\n",
      "14/14 [==============================] - 0s 16ms/step - loss: 0.0975 - val_loss: 0.1120\n",
      "Epoch 145/600\n",
      "14/14 [==============================] - 0s 17ms/step - loss: 0.0914 - val_loss: 0.1267\n",
      "Epoch 146/600\n",
      "14/14 [==============================] - 0s 13ms/step - loss: 0.1021 - val_loss: 0.0946\n",
      "Epoch 147/600\n",
      "14/14 [==============================] - 0s 16ms/step - loss: 0.0834 - val_loss: 0.0962\n",
      "Epoch 148/600\n",
      "14/14 [==============================] - 0s 8ms/step - loss: 0.0820 - val_loss: 0.1011\n",
      "Epoch 149/600\n",
      "14/14 [==============================] - 0s 14ms/step - loss: 0.1118 - val_loss: 0.1075\n",
      "Epoch 150/600\n",
      "14/14 [==============================] - 0s 19ms/step - loss: 0.0932 - val_loss: 0.1135\n",
      "Epoch 151/600\n",
      "14/14 [==============================] - 0s 16ms/step - loss: 0.0818 - val_loss: 0.1065\n",
      "Epoch 152/600\n",
      "14/14 [==============================] - 0s 18ms/step - loss: 0.0900 - val_loss: 0.1042\n",
      "Epoch 153/600\n",
      "14/14 [==============================] - 0s 18ms/step - loss: 0.1053 - val_loss: 0.0965\n",
      "Epoch 154/600\n",
      "14/14 [==============================] - 0s 14ms/step - loss: 0.0785 - val_loss: 0.0997\n",
      "Epoch 155/600\n",
      "14/14 [==============================] - 0s 20ms/step - loss: 0.0942 - val_loss: 0.1180\n",
      "Epoch 156/600\n",
      "14/14 [==============================] - 0s 15ms/step - loss: 0.0974 - val_loss: 0.0960\n",
      "Epoch 157/600\n",
      "14/14 [==============================] - 0s 14ms/step - loss: 0.0866 - val_loss: 0.1118\n",
      "Epoch 158/600\n",
      "14/14 [==============================] - 0s 16ms/step - loss: 0.0753 - val_loss: 0.1176\n",
      "Epoch 159/600\n",
      "14/14 [==============================] - 0s 18ms/step - loss: 0.0935 - val_loss: 0.1081\n",
      "Epoch 160/600\n",
      "14/14 [==============================] - 0s 15ms/step - loss: 0.0996 - val_loss: 0.1100\n",
      "Epoch 161/600\n",
      "14/14 [==============================] - 0s 16ms/step - loss: 0.0904 - val_loss: 0.1100\n",
      "Epoch 162/600\n"
     ]
    },
    {
     "name": "stdout",
     "output_type": "stream",
     "text": [
      "14/14 [==============================] - 0s 19ms/step - loss: 0.0873 - val_loss: 0.1021\n",
      "Epoch 163/600\n",
      "14/14 [==============================] - 0s 18ms/step - loss: 0.0843 - val_loss: 0.1056\n",
      "Epoch 164/600\n",
      "14/14 [==============================] - 0s 13ms/step - loss: 0.0759 - val_loss: 0.1058\n",
      "Epoch 165/600\n",
      "14/14 [==============================] - 0s 9ms/step - loss: 0.0823 - val_loss: 0.1023\n",
      "Epoch 166/600\n",
      "14/14 [==============================] - 0s 14ms/step - loss: 0.0822 - val_loss: 0.1126\n",
      "Epoch 167/600\n",
      "14/14 [==============================] - 0s 15ms/step - loss: 0.0778 - val_loss: 0.1123\n",
      "Epoch 168/600\n",
      "14/14 [==============================] - 0s 17ms/step - loss: 0.0785 - val_loss: 0.0986\n",
      "Epoch 169/600\n",
      "14/14 [==============================] - 0s 18ms/step - loss: 0.0889 - val_loss: 0.1100\n",
      "Epoch 170/600\n",
      "14/14 [==============================] - 0s 15ms/step - loss: 0.0916 - val_loss: 0.1057\n",
      "Epoch 171/600\n",
      "14/14 [==============================] - 0s 16ms/step - loss: 0.0744 - val_loss: 0.1084\n",
      "Epoch 171: early stopping\n"
     ]
    },
    {
     "data": {
      "text/plain": [
       "<keras.callbacks.History at 0x1b7b2443d30>"
      ]
     },
     "execution_count": 18,
     "metadata": {},
     "output_type": "execute_result"
    }
   ],
   "source": [
    "model.fit(x=X_train, \n",
    "          y=y_train, \n",
    "          epochs=600,\n",
    "          validation_data=(X_test, y_test), verbose=1,\n",
    "          callbacks=[early_stop,board]\n",
    "          )"
   ]
  },
  {
   "cell_type": "markdown",
   "metadata": {},
   "source": [
    "# Running Tensorboard\n"
   ]
  },
  {
   "cell_type": "markdown",
   "metadata": {},
   "source": [
    "## Running through the Command Line\n"
   ]
  },
  {
   "cell_type": "markdown",
   "metadata": {},
   "source": [
    "Tensorboard will run locally in your browser at [http://localhost:6006/](http://localhost:6006/)\n"
   ]
  },
  {
   "cell_type": "code",
   "execution_count": 19,
   "metadata": {},
   "outputs": [
    {
     "name": "stdout",
     "output_type": "stream",
     "text": [
      "logs\\fit\n"
     ]
    }
   ],
   "source": [
    "print(log_directory)"
   ]
  },
  {
   "cell_type": "code",
   "execution_count": 20,
   "metadata": {},
   "outputs": [
    {
     "data": {
      "text/plain": [
       "'C:\\\\Users\\\\ajayk\\\\Desktop\\\\Reinforcement learning\\\\03-ANNs'"
      ]
     },
     "execution_count": 20,
     "metadata": {},
     "output_type": "execute_result"
    }
   ],
   "source": [
    "pwd"
   ]
  },
  {
   "cell_type": "markdown",
   "metadata": {},
   "source": [
    "### Use cd at your command line to change directory to the file path reported back by pwd or your current .py file location.\n",
    "### Then run this code at your command line or terminal"
   ]
  },
  {
   "cell_type": "markdown",
   "metadata": {},
   "source": [
    "tensorboard --logdir logs\\fit "
   ]
  },
  {
   "cell_type": "code",
   "execution_count": null,
   "metadata": {},
   "outputs": [],
   "source": []
  }
 ],
 "metadata": {
  "kernelspec": {
   "display_name": "Python 3 (ipykernel)",
   "language": "python",
   "name": "python3"
  },
  "language_info": {
   "codemirror_mode": {
    "name": "ipython",
    "version": 3
   },
   "file_extension": ".py",
   "mimetype": "text/x-python",
   "name": "python",
   "nbconvert_exporter": "python",
   "pygments_lexer": "ipython3",
   "version": "3.9.12"
  }
 },
 "nbformat": 4,
 "nbformat_minor": 2
}
